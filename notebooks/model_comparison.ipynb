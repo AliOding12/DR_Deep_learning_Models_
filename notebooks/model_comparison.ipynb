{
 "cells": [
  {
   "cell_type": "markdown",
   "metadata": {},
   "source": [
    "# Model Comparison\n",
    "\n",
    "This notebook compares performance across classification, detection, and segmentation models."
   ]
  },
  {
   "cell_type": "code",
   "execution_count": null,
   "metadata": {},
   "outputs": [],
   "source": [
    "import torch\n",
    "import pandas as pd\n",
    "import time\n",
    "from classification.models.resnet import ResNet\n",
    "from classification.models.densenet import DenseNet\n",
    "from segmentation.models.unet import UNet\n",
    "from segmentation.models.unet_plus_plus import UNetPlusPlus\n",
    "\n",
    "device = torch.device('cuda' if torch.cuda.is_available() else 'cpu')\n",
    "models = {\n",
    "    'resnet': (ResNet(), (1, 3, 224, 224)),\n",
    "    'densenet': (DenseNet(), (1, 3, 224, 224)),\n",
    "    'unet': (UNet(), (1, 3, 256, 256)),\n",
    "    'unet_plus_plus': (UNetPlusPlus(), (1, 3, 256, 256))\n",
    "}\n",
    "\n",
    "results = []\n",
    "for model_name, (model, input_shape) in models.items():\n",
    "    model.to(device)\n",
    "    model.eval()\n",
    "    dummy_input = torch.randn(input_shape).to(device)\n",
    "    start_time = time.time()\n",
    "    with torch.no_grad():\n",
    "        for _ in range(100):\n",
    "            model(dummy_input)\n",
    "    avg_time = (time.time() - start_time) / 100\n",
    "    results.append({'Model': model_name, 'Avg Inference Time (s)': avg_time})\n",
    "\n",
    "df = pd.DataFrame(results)\n",
    "print(df)"
   ]
  }
 ],
 "metadata": {
  "kernelspec": {
   "display_name": "Python 3",
   "language": "python",
   "name": "python3"
  },
  "language_info": {
   "codemirror_mode": {
    "name": "ipython",
    "version": 3
   },
   "file_extension": ".py",
   "mimetype": "text/x-python",
   "name": "python",
   "nbconvert_exporter": "python",
   "pygments_lexer": "ipython3",
   "version": "3.9.0"
  }
 },
 "nbformat": 4,
 "nbformat_minor": 4
}
