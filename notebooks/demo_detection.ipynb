{
 "cells": [
  {
   "cell_type": "markdown",
   "metadata": {},
   "source": [
    "# Detection Demo\n",
    "\n",
    "This notebook demonstrates inference with the YOLO model."
   ]
  },
  {
   "cell_type": "code",
   "execution_count": null,
   "metadata": {},
   "outputs": [],
   "source": [
    "import torch\n",
    "import cv2\n",
    "from pathlib import Path\n",
    "import matplotlib.pyplot as plt\n",
    "from detection.models.yolo.yolo import YOLO\n",
    "from torchvision import transforms\n",
    "\n",
    "device = torch.device('cuda' if torch.cuda.is_available() else 'cpu')\n",
    "model = YOLO(num_classes=80)\n",
    "model.load_state_dict(torch.load('saved_models/detection/yolov5.pt', map_location=device))\n",
    "model.to(device)\n",
    "model.eval()\n",
    "\n",
    "transform = transforms.Compose([\n",
    "    transforms.ToTensor(),\n",
    "    transforms.Resize((640, 640))\n",
    "])\n",
    "\n",
    "image_path = Path('data/detection/test/sample.jpg')\n",
    "img = cv2.imread(str(image_path))\n",
    "img = cv2.cvtColor(img, cv2.COLOR_BGR2RGB)\n",
    "img_tensor = transform(img).unsqueeze(0).to(device)\n",
    "\n",
    "with torch.no_grad():\n",
    "    predictions = model(img_tensor)\n",
    "\n",
    "# Placeholder: Draw bounding boxes\n",
    "for box in predictions[0]['boxes']:\n",
    "    x1, y1, x2, y2 = box.cpu().numpy()\n",
    "    cv2.rectangle(img, (int(x1), int(y1)), (int(x2), int(y2)), (255, 0, 0), 2)\n",
    "\n",
    "plt.imshow(img)\n",
    "plt.axis('off')\n",
    "plt.show()"
   ]
  }
 ],
 "metadata": {
  "kernelspec": {
   "display_name": "Python 3",
   "language": "python",
   "name": "python3"
  },
  "language_info": {
   "codemirror_mode": {
    "name": "ipython",
    "version": 3
   },
   "file_extension": ".py",
   "mimetype": "text/x-python",
   "name": "python",
   "nbconvert_exporter": "python",
   "pygments_lexer": "ipython3",
   "version": "3.9.0"
  }
 },
 "nbformat": 4,
 "nbformat_minor": 4
}
# Add detection demo notebook
